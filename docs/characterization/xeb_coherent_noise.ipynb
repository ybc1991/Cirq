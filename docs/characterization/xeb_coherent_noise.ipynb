{
 "cells": [
  {
   "cell_type": "markdown",
   "metadata": {
    "id": "gXXhctqjgXO7"
   },
   "source": [
    "##### Copyright 2021 The Cirq Developers"
   ]
  },
  {
   "cell_type": "code",
   "execution_count": null,
   "metadata": {
    "cellView": "form",
    "id": "z2RJVa8qgXou"
   },
   "outputs": [],
   "source": [
    "#@title Licensed under the Apache License, Version 2.0 (the \"License\");\n",
    "# you may not use this file except in compliance with the License.\n",
    "# You may obtain a copy of the License at\n",
    "#\n",
    "# https://www.apache.org/licenses/LICENSE-2.0\n",
    "#\n",
    "# Unless required by applicable law or agreed to in writing, software\n",
    "# distributed under the License is distributed on an \"AS IS\" BASIS,\n",
    "# WITHOUT WARRANTIES OR CONDITIONS OF ANY KIND, either express or implied.\n",
    "# See the License for the specific language governing permissions and\n",
    "# limitations under the License."
   ]
  },
  {
   "cell_type": "markdown",
   "metadata": {
    "id": "dd95be2a71eb"
   },
   "source": [
    "# XEB and Coherent Error"
   ]
  },
  {
   "cell_type": "code",
   "execution_count": null,
   "metadata": {
    "id": "046b07823210"
   },
   "outputs": [],
   "source": [
    "import numpy as np\n",
    "\n",
    "import cirq\n",
    "from cirq.contrib.svg import SVGCircuit"
   ]
  },
  {
   "cell_type": "markdown",
   "metadata": {
    "id": "ace31cc4d258"
   },
   "source": [
    "## Set up Random Circuits\n",
    "\n",
    "We create a set of 10 random, two-qubit `circuits` which uses `SINGLE_QUBIT_GATES` to randomize the circuit and `SQRT_ISWAP` as the entangling gate. We will ultimately truncate each of these circuits according to `cycle_depths`. Please see [the XEB Theory notebook](./xeb_theory.ipynb) for more details."
   ]
  },
  {
   "cell_type": "code",
   "execution_count": null,
   "metadata": {
    "id": "448db4e165e5"
   },
   "outputs": [],
   "source": [
    "exponents = np.linspace(0, 7/4, 8)\n",
    "exponents"
   ]
  },
  {
   "cell_type": "code",
   "execution_count": null,
   "metadata": {
    "id": "91c5d7d9731f"
   },
   "outputs": [],
   "source": [
    "import itertools\n",
    "SINGLE_QUBIT_GATES = [\n",
    "    cirq.PhasedXZGate(x_exponent=0.5, z_exponent=z, axis_phase_exponent=a)\n",
    "    for a, z in itertools.product(exponents, repeat=2)\n",
    "]\n",
    "SINGLE_QUBIT_GATES[:10], '...'"
   ]
  },
  {
   "cell_type": "code",
   "execution_count": null,
   "metadata": {
    "id": "fd2a6e10afe5"
   },
   "outputs": [],
   "source": [
    "import cirq.google as cg\n",
    "from cirq.experiments import random_quantum_circuit_generation as rqcg\n",
    "\n",
    "SQRT_ISWAP = cirq.ISWAP**0.5\n",
    "q0, q1 = cirq.LineQubit.range(2)"
   ]
  },
  {
   "cell_type": "code",
   "execution_count": null,
   "metadata": {
    "id": "bf85fef74b6d"
   },
   "outputs": [],
   "source": [
    "# Make long circuits (which we will truncate)\n",
    "circuits = [\n",
    "    rqcg.random_rotations_between_two_qubit_circuit(\n",
    "        q0, q1, \n",
    "        depth=100, \n",
    "        two_qubit_op_factory=lambda a, b, _: SQRT_ISWAP(a, b), \n",
    "        single_qubit_gates=SINGLE_QUBIT_GATES)\n",
    "    for _ in range(10)\n",
    "]"
   ]
  },
  {
   "cell_type": "code",
   "execution_count": null,
   "metadata": {
    "id": "c7c044ec12ac"
   },
   "outputs": [],
   "source": [
    "# We will truncate to these lengths\n",
    "cycle_depths = np.arange(3, 100, 9)\n",
    "cycle_depths"
   ]
  },
  {
   "cell_type": "markdown",
   "metadata": {
    "id": "2e0f9de60ef1"
   },
   "source": [
    "## Emulate coherent error\n",
    "\n",
    "We request a $\\sqrt{i\\mathrm{SWAP}}$ gate, but the quantum hardware may execute something subtly different. Therefore, we move to a more general 5-parameter two qubit gate, `cirq.PhasedFSimGate`. \n",
    "\n",
    "This is the general excitation-preserving two-qubit gate, and the unitary matrix of PhasedFSimGate(θ, ζ, χ, γ, φ) is:\n",
    "\n",
    "    [[1,                       0,                       0,            0],\n",
    "     [0,    exp(-iγ - iζ) cos(θ), -i exp(-iγ + iχ) sin(θ),            0],\n",
    "     [0, -i exp(-iγ - iχ) sin(θ),    exp(-iγ + iζ) cos(θ),            0],\n",
    "     [0,                       0,                       0, exp(-2iγ-iφ)]].\n",
    "\n",
    "This parametrization follows eq (18) in https://arxiv.org/abs/2010.07965. Please read the docstring for `cirq.PhasedFSimGate` for more information.\n",
    "\n",
    "With the following code, we show how `SQRT_ISWAP` can be written as a specific `cirq.PhasedFSimGate`."
   ]
  },
  {
   "cell_type": "code",
   "execution_count": null,
   "metadata": {
    "id": "a598f743d18a"
   },
   "outputs": [],
   "source": [
    "sqrt_iswap_as_phased_fsim = cirq.PhasedFSimGate.from_fsim_rz(\n",
    "    theta=-np.pi/4, phi=0, \n",
    "    rz_angles_before=(0,0), rz_angles_after=(0,0))\n",
    "np.testing.assert_allclose(\n",
    "    cirq.unitary(sqrt_iswap_as_phased_fsim),\n",
    "    cirq.unitary(SQRT_ISWAP),\n",
    "    atol=1e-8\n",
    ")"
   ]
  },
  {
   "cell_type": "markdown",
   "metadata": {
    "id": "31492475ce1b"
   },
   "source": [
    "We'll also create a perturbed version. Note the $\\pi/16$ `phi` angle:"
   ]
  },
  {
   "cell_type": "code",
   "execution_count": null,
   "metadata": {
    "id": "da1de99252fa"
   },
   "outputs": [],
   "source": [
    "perturbed_sqrt_iswap = cirq.PhasedFSimGate.from_fsim_rz(theta=-np.pi/4, phi=np.pi/16,\n",
    "                                                       rz_angles_before=(0,0), rz_angles_after=(0,0))\n",
    "np.round(cirq.unitary(perturbed_sqrt_iswap), 3)"
   ]
  },
  {
   "cell_type": "markdown",
   "metadata": {
    "id": "f4118b7dcbdc"
   },
   "source": [
    "We'll use this perturbed gate along with the `GateSubstitutionNoiseModel` to create simulator which has a constant coherent error. Namely, each `SQRT_ISWAP` will be substituted for our perturbed version."
   ]
  },
  {
   "cell_type": "code",
   "execution_count": null,
   "metadata": {
    "id": "625cd8c4e43c"
   },
   "outputs": [],
   "source": [
    "def _sub_iswap(op):\n",
    "    if op.gate == SQRT_ISWAP:\n",
    "        return perturbed_sqrt_iswap.on(*op.qubits)\n",
    "    return op\n",
    "\n",
    "noise = cirq.devices.noise_model.GateSubstitutionNoiseModel(_sub_iswap)\n",
    "noisy_sim = cirq.DensityMatrixSimulator(noise=noise)"
   ]
  },
  {
   "cell_type": "markdown",
   "metadata": {
    "id": "0ae1dfafb03c"
   },
   "source": [
    "## Run the benchmark circuits\n",
    "\n",
    "We use the function `sample_2q_xeb_circuits` to execute all of our circuits at the requested `cycle_depths`."
   ]
  },
  {
   "cell_type": "code",
   "execution_count": null,
   "metadata": {
    "id": "ba0dcff52057"
   },
   "outputs": [],
   "source": [
    "from cirq.experiments.fidelity_estimation import sample_2q_xeb_circuits\n",
    "sampled_df = sample_2q_xeb_circuits(sampler=noisy_sim, circuits=circuits, \n",
    "                                    cycle_depths=cycle_depths, repetitions=10_000)\n",
    "sampled_df.head()"
   ]
  },
  {
   "cell_type": "markdown",
   "metadata": {
    "id": "51292810e6a8"
   },
   "source": [
    "## Compute fidelity assuming `SQRT_ISWAP`\n",
    "\n",
    "In contrast to the XEB Theory notebook, here we only have added coherent error (not depolarizing). Nevertheless, the random, scrambling nature of the circuits shows circuit fidelity decaying with depth (at least when we assume that we were trying to use a pure `SQRT_ISWAP` gate)"
   ]
  },
  {
   "cell_type": "code",
   "execution_count": null,
   "metadata": {
    "id": "b5390dc443ab"
   },
   "outputs": [],
   "source": [
    "from cirq.experiments.fidelity_estimation import benchmark_2q_xeb_fidelities\n",
    "fids = benchmark_2q_xeb_fidelities(sampled_df, circuits, cycle_depths)\n",
    "fids.head()"
   ]
  },
  {
   "cell_type": "code",
   "execution_count": null,
   "metadata": {
    "id": "8c08c9ab8109"
   },
   "outputs": [],
   "source": [
    "%matplotlib inline\n",
    "from matplotlib import pyplot as plt\n",
    "\n",
    "plt.plot(fids['cycle_depth'], fids['fidelity'], 'o-', label='Perturbed fSim')\n",
    "\n",
    "xx = np.linspace(0, fids['cycle_depth'].max())\n",
    "plt.plot(xx, (1-5e-3)**(4*xx), label=r'Exponential Reference')\n",
    "\n",
    "plt.ylabel('Circuit fidelity')\n",
    "plt.xlabel('Cycle Depth $d$')\n",
    "plt.legend(loc='best')"
   ]
  }
 ],
 "metadata": {
  "colab": {
   "name": "xeb_coherent_noise.ipynb",
   "toc_visible": true
  },
  "kernelspec": {
   "display_name": "Python 3",
   "name": "python3"
  }
 },
 "nbformat": 4,
 "nbformat_minor": 0
}
